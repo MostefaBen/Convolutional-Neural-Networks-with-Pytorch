{
 "cells": [
  {
   "cell_type": "code",
   "execution_count": 1,
   "id": "91daabd0",
   "metadata": {},
   "outputs": [],
   "source": [
    "# import libraries\n",
    "import torch\n",
    "from torch import nn\n",
    "import numpy as np"
   ]
  },
  {
   "cell_type": "markdown",
   "id": "6ee9dd54",
   "metadata": {},
   "source": [
    "### The relationship between Cross-Correlation and Convolution"
   ]
  },
  {
   "cell_type": "code",
   "execution_count": 62,
   "id": "f5f5bf4d",
   "metadata": {},
   "outputs": [],
   "source": [
    "# implementing Convolutional layer\n",
    "# conv 2D is a cross-correlation by only flipping a Kernel\n",
    "# When we learn a Kernel from data, Cross-Correlation and Convolution are the same.  \n",
    "class conv2d(nn.Module):\n",
    "    def __init__(self, kernel_size=(3, 3)):\n",
    "        super().__init__()\n",
    "        self.weight = nn.Parameter(torch.rand(kernel_size))\n",
    "        self.bias = nn.Parameter(torch.zeros(1))\n",
    "        \n",
    "    def corr2d(self, X, K):\n",
    "        \"\"\"Compute 2D cross-correlation\"\"\"\n",
    "        \n",
    "        h, w = K.shape\n",
    "        Y = torch.zeros((X.shape[0]-h+1, X.shape[1]-w+1))\n",
    "        \n",
    "        for i in range(Y.shape[0]):\n",
    "            for j in range(Y.shape[1]):\n",
    "                Y[i, j] = (X[i:i+h, j:j+w] * K).sum()\n",
    "        return Y\n",
    "    \n",
    "    def forward(self, X):\n",
    "        \"\"\"Compute 2D Convolution.\"\"\"\n",
    "        return self.corr2d(X, self.weight) + self.bias\n",
    "        "
   ]
  },
  {
   "cell_type": "code",
   "execution_count": 63,
   "id": "6677ffc1",
   "metadata": {},
   "outputs": [
    {
     "data": {
      "text/plain": [
       "tensor([[3.6293, 5.1562],\n",
       "        [8.2101, 9.7370]], grad_fn=<AddBackward0>)"
      ]
     },
     "execution_count": 63,
     "metadata": {},
     "output_type": "execute_result"
    }
   ],
   "source": [
    "# our first example\n",
    "X = torch.tensor([[0.0, 1.0, 2.0], [3.0, 4.0, 5.0], [6.0, 7.0, 8.0]])\n",
    "conv = conv2d((2,2))\n",
    "conv(X)"
   ]
  },
  {
   "cell_type": "markdown",
   "id": "6c38bf7d",
   "metadata": {},
   "source": [
    "### Object Edge Detection in Images"
   ]
  },
  {
   "cell_type": "code",
   "execution_count": 64,
   "id": "cca341f6",
   "metadata": {},
   "outputs": [
    {
     "data": {
      "text/plain": [
       "tensor([[1., 1., 0., 0., 0., 0., 1., 1.],\n",
       "        [1., 1., 0., 0., 0., 0., 1., 1.],\n",
       "        [1., 1., 0., 0., 0., 0., 1., 1.],\n",
       "        [1., 1., 0., 0., 0., 0., 1., 1.],\n",
       "        [1., 1., 0., 0., 0., 0., 1., 1.],\n",
       "        [1., 1., 0., 0., 0., 0., 1., 1.]])"
      ]
     },
     "execution_count": 64,
     "metadata": {},
     "output_type": "execute_result"
    }
   ],
   "source": [
    "# a white and black image\n",
    "X = torch.ones((6, 8))\n",
    "X[:, 2:6] = 0\n",
    "X"
   ]
  },
  {
   "cell_type": "code",
   "execution_count": 65,
   "id": "ee179ed2",
   "metadata": {},
   "outputs": [
    {
     "data": {
      "text/plain": [
       "tensor([[ 1., -1.]])"
      ]
     },
     "execution_count": 65,
     "metadata": {},
     "output_type": "execute_result"
    }
   ],
   "source": [
    "# our Kernel (our detector)\n",
    "K = torch.tensor([[1.0, -1.0]])\n",
    "K"
   ]
  },
  {
   "cell_type": "code",
   "execution_count": 66,
   "id": "623ef7cd",
   "metadata": {},
   "outputs": [
    {
     "data": {
      "text/plain": [
       "tensor([[ 0.,  1.,  0.,  0.,  0., -1.,  0.],\n",
       "        [ 0.,  1.,  0.,  0.,  0., -1.,  0.],\n",
       "        [ 0.,  1.,  0.,  0.,  0., -1.,  0.],\n",
       "        [ 0.,  1.,  0.,  0.,  0., -1.,  0.],\n",
       "        [ 0.,  1.,  0.,  0.,  0., -1.,  0.],\n",
       "        [ 0.,  1.,  0.,  0.,  0., -1.,  0.]])"
      ]
     },
     "execution_count": 66,
     "metadata": {},
     "output_type": "execute_result"
    }
   ],
   "source": [
    "# we apply our 2d cross-correlation between X(input) and K(Kernel)\n",
    "conv = conv2d((2, 2))\n",
    "Y = conv.corr2d(X, K)\n",
    "Y"
   ]
  },
  {
   "cell_type": "markdown",
   "id": "02b57857",
   "metadata": {},
   "source": [
    "We detect 1 for the edge from white to black and -1 for the edge from black to white, 0 otherwise. Our detector (Kerenl K) can detect only horizonal edge, if we try to apply it to a vertical edge it's going to vanishe you can see in the next example"
   ]
  },
  {
   "cell_type": "code",
   "execution_count": 49,
   "id": "54c920f9",
   "metadata": {},
   "outputs": [
    {
     "data": {
      "text/plain": [
       "tensor([[0., 0., 0., 0., 0.],\n",
       "        [0., 0., 0., 0., 0.],\n",
       "        [0., 0., 0., 0., 0.],\n",
       "        [0., 0., 0., 0., 0.],\n",
       "        [0., 0., 0., 0., 0.],\n",
       "        [0., 0., 0., 0., 0.],\n",
       "        [0., 0., 0., 0., 0.],\n",
       "        [0., 0., 0., 0., 0.]])"
      ]
     },
     "execution_count": 49,
     "metadata": {},
     "output_type": "execute_result"
    }
   ],
   "source": [
    "# applying the Kernel to the transposed image\n",
    "# X.T is the image transpose \n",
    "conv.corr2d(X.T, K) "
   ]
  },
  {
   "cell_type": "markdown",
   "id": "94519a35",
   "metadata": {},
   "source": [
    "### Learning a Kernel"
   ]
  },
  {
   "cell_type": "code",
   "execution_count": 50,
   "id": "d54ee782",
   "metadata": {},
   "outputs": [
    {
     "data": {
      "text/plain": [
       "(torch.Size([6, 8]), torch.Size([6, 7]))"
      ]
     },
     "execution_count": 50,
     "metadata": {},
     "output_type": "execute_result"
    }
   ],
   "source": [
    "X.shape, Y.shape"
   ]
  },
  {
   "cell_type": "code",
   "execution_count": 72,
   "id": "a5e7558a",
   "metadata": {},
   "outputs": [
    {
     "data": {
      "text/plain": [
       "(tensor([[[[1., 1., 0., 0., 0., 0., 1., 1.],\n",
       "           [1., 1., 0., 0., 0., 0., 1., 1.],\n",
       "           [1., 1., 0., 0., 0., 0., 1., 1.],\n",
       "           [1., 1., 0., 0., 0., 0., 1., 1.],\n",
       "           [1., 1., 0., 0., 0., 0., 1., 1.],\n",
       "           [1., 1., 0., 0., 0., 0., 1., 1.]]]]),\n",
       " tensor([[[[ 0.,  1.,  0.,  0.,  0., -1.,  0.],\n",
       "           [ 0.,  1.,  0.,  0.,  0., -1.,  0.],\n",
       "           [ 0.,  1.,  0.,  0.,  0., -1.,  0.],\n",
       "           [ 0.,  1.,  0.,  0.,  0., -1.,  0.],\n",
       "           [ 0.,  1.,  0.,  0.,  0., -1.,  0.],\n",
       "           [ 0.,  1.,  0.,  0.,  0., -1.,  0.]]]]))"
      ]
     },
     "execution_count": 72,
     "metadata": {},
     "output_type": "execute_result"
    }
   ],
   "source": [
    "# applying conv 2D layer\n",
    "conv2d = nn.LazyConv2d(1, kernel_size=(1, 2), bias=False)\n",
    "X = X.reshape((1, 1, 6, 8))\n",
    "Y = Y.reshape((1, 1, 6, 7))\n",
    "X, Y"
   ]
  },
  {
   "cell_type": "code",
   "execution_count": 68,
   "id": "25b51619",
   "metadata": {},
   "outputs": [
    {
     "name": "stdout",
     "output_type": "stream",
     "text": [
      "epoch 1, loss 14.700\n",
      "epoch 2, loss 7.834\n",
      "epoch 3, loss 4.369\n",
      "epoch 4, loss 2.532\n",
      "epoch 5, loss 1.513\n",
      "epoch 6, loss 0.924\n",
      "epoch 7, loss 0.573\n",
      "epoch 8, loss 0.359\n",
      "epoch 9, loss 0.227\n",
      "epoch 10, loss 0.144\n"
     ]
    }
   ],
   "source": [
    "# training the Kernel (our detector)\n",
    "lr = 3e-2\n",
    "for i in range(10):\n",
    "    Y_hat = conv2d(X)      # apply conv 2D\n",
    "    loss = (Y-Y_hat)**2    # compute the error\n",
    "    conv2d.zero_grad()     # reset the gradient\n",
    "    loss.sum().backward()  # compute the new gradient\n",
    "    conv2d.weight.data[:] -= lr * conv2d.weight.grad   # update the Kernel\n",
    "    print(f'epoch {i + 1}, loss {loss.sum():.3f}')"
   ]
  },
  {
   "cell_type": "code",
   "execution_count": 71,
   "id": "151eccf8",
   "metadata": {},
   "outputs": [
    {
     "data": {
      "text/plain": [
       "tensor([[ 0.9524, -1.0302]])"
      ]
     },
     "execution_count": 71,
     "metadata": {},
     "output_type": "execute_result"
    }
   ],
   "source": [
    "# showing the Kernel weights\n",
    "conv2d.weight.data.reshape((1, 2))"
   ]
  }
 ],
 "metadata": {
  "kernelspec": {
   "display_name": "Python 3 (ipykernel)",
   "language": "python",
   "name": "python3"
  },
  "language_info": {
   "codemirror_mode": {
    "name": "ipython",
    "version": 3
   },
   "file_extension": ".py",
   "mimetype": "text/x-python",
   "name": "python",
   "nbconvert_exporter": "python",
   "pygments_lexer": "ipython3",
   "version": "3.8.16"
  }
 },
 "nbformat": 4,
 "nbformat_minor": 5
}
